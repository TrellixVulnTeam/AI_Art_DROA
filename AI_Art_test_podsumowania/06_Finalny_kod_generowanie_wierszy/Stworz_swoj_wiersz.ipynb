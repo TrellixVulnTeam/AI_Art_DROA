{
  "nbformat": 4,
  "nbformat_minor": 0,
  "metadata": {
    "colab": {
      "name": "Stworz_swoj_wiersz.ipynb",
      "provenance": [],
      "collapsed_sections": []
    },
    "kernelspec": {
      "name": "python3",
      "display_name": "Python 3"
    },
    "accelerator": "GPU"
  },
  "cells": [
    {
      "cell_type": "markdown",
      "metadata": {
        "id": "MN2vQQZQx6Pz"
      },
      "source": [
        "# Projekt \"Poeta A.I.\"\n",
        "#### by [Krystian Kubala](https://www.linkedin.com/in/krystian-kubala-96b9b3160/) & [Miroslaw Mamczur](https://www.linkedin.com/in/miroslawmamczur/) [[blog Mirka](https://miroslawmamczur.pl/)]\n",
        " \n",
        "\"*Naszym marzeniem jest, by każdy z nas mógł zostać poetą*\" - to hasło przyświecało nam od początku.\n",
        "Z tą myślą przygotowaliśmy kod, który każdego z nas może zamienić w poetę.\n",
        " \n",
        "Jak? Wystarczy powiedzieć jedno zdanie do mikrofonu komputera. On zarejestruje słowa, które następnie potraktujemy jako pierwszy wers nowego dzieła lirycznego.\n",
        "Nie trzeba się martwić wierszem - o to zadba wytrenowany model, który dopisze resztę naszego unikalnego utworu.\n",
        "\n",
        "Model został wytrenowany na dziełach najznakomitszych polskich poetów.\n",
        " \n",
        "**Uwaga.** Chcesz to baw się do woli parametrami i dobierz je jak uważasz :)\n",
        "\n",
        "Z całego serducha zapraszamy Was do stworzenia własnych dzieł."
      ]
    },
    {
      "cell_type": "markdown",
      "metadata": {
        "id": "I-Gy-7BVHT-l"
      },
      "source": [
        "**UWAGA:** Aby kod działał poprawnie musi być przeliczany na GPU! (Edytuj-> Ustawienia notatnika ->GPU)"
      ]
    },
    {
      "cell_type": "markdown",
      "metadata": {
        "id": "_UFaPasYLZcp"
      },
      "source": [
        ""
      ]
    },
    {
      "cell_type": "code",
      "metadata": {
        "colab": {
          "base_uri": "https://localhost:8080/"
        },
        "id": "4OyXFsgXXApD",
        "outputId": "23e9569e-ccd3-43b2-e653-d2551232b504"
      },
      "source": [
        "#pobranie do pamięci Colab wytrenowanych modeli i plików z naszego Google Drive na potrzeby projektu\n",
        "!gdown --id \"1ehYE-Qs45dhe615qGQt_CSWYkXWZmxlM\"\n",
        "!gdown --id \"1JWbFpt_GqydW59iLjKUM6uJn7tBZPUY_\"\n",
        "!gdown --id \"1xuLdA2jCXMYWGrjMhsASxs_wFDWWVUIZ\"\n",
        "!gdown --id \"1qupWwgbueb-K3hzmuROvbXjA2LwMPYY7\"\n",
        "!gdown --id \"1TZE4hx7pTI1db4iORpKZauG-CCxUrKVw\""
      ],
      "execution_count": null,
      "outputs": [
        {
          "output_type": "stream",
          "text": [
            "Downloading...\n",
            "From: https://drive.google.com/uc?id=1ehYE-Qs45dhe615qGQt_CSWYkXWZmxlM\n",
            "To: /content/best_xgb.pickle\n",
            "6.40MB [00:00, 101MB/s]\n",
            "Downloading...\n",
            "From: https://drive.google.com/uc?id=1JWbFpt_GqydW59iLjKUM6uJn7tBZPUY_\n",
            "To: /content/tgidf.pickle\n",
            "100% 13.3k/13.3k [00:00<00:00, 12.2MB/s]\n",
            "Downloading...\n",
            "From: https://drive.google.com/uc?id=1xuLdA2jCXMYWGrjMhsASxs_wFDWWVUIZ\n",
            "To: /content/pl_spacy_model-0.1.0.tar.gz\n",
            "170MB [00:03, 48.2MB/s]\n",
            "Downloading...\n",
            "From: https://drive.google.com/uc?id=1qupWwgbueb-K3hzmuROvbXjA2LwMPYY7\n",
            "To: /content/checkpoint_mm_model_355M_final.tar\n",
            "1.44GB [00:07, 190MB/s]\n",
            "Downloading...\n",
            "From: https://drive.google.com/uc?id=1TZE4hx7pTI1db4iORpKZauG-CCxUrKVw\n",
            "To: /content/banksterzy.py\n",
            "100% 11.3k/11.3k [00:00<00:00, 18.5MB/s]\n"
          ],
          "name": "stdout"
        }
      ]
    },
    {
      "cell_type": "code",
      "metadata": {
        "colab": {
          "base_uri": "https://localhost:8080/"
        },
        "id": "aeqouIR_7phc",
        "outputId": "dc0bc162-76ae-4075-9584-6d8bf90d23fd"
      },
      "source": [
        "#instalacja dodatkowych bibliotek\n",
        "!pip install ffmpeg-python\n",
        "!pip install SpeechRecognition\n",
        "!pip install python-Levenshtein\n",
        "!pip install fuzzywuzzy\n",
        "!pip install -q gpt-2-simple\n",
        "!pip install stop-words\n",
        "!pip install 'pl_spacy_model-0.1.0.tar.gz'\n",
        "!pip install python-pptx\n",
        "!pip install git+https://github.com/robintw/PandasToPowerpoint.git"
      ],
      "execution_count": null,
      "outputs": [
        {
          "output_type": "stream",
          "text": [
            "Collecting ffmpeg-python\n",
            "  Downloading https://files.pythonhosted.org/packages/d7/0c/56be52741f75bad4dc6555991fabd2e07b432d333da82c11ad701123888a/ffmpeg_python-0.2.0-py3-none-any.whl\n",
            "Requirement already satisfied: future in /usr/local/lib/python3.6/dist-packages (from ffmpeg-python) (0.16.0)\n",
            "Installing collected packages: ffmpeg-python\n",
            "Successfully installed ffmpeg-python-0.2.0\n",
            "Collecting SpeechRecognition\n",
            "\u001b[?25l  Downloading https://files.pythonhosted.org/packages/26/e1/7f5678cd94ec1234269d23756dbdaa4c8cfaed973412f88ae8adf7893a50/SpeechRecognition-3.8.1-py2.py3-none-any.whl (32.8MB)\n",
            "\u001b[K     |████████████████████████████████| 32.8MB 101kB/s \n",
            "\u001b[?25hInstalling collected packages: SpeechRecognition\n",
            "Successfully installed SpeechRecognition-3.8.1\n",
            "Collecting python-Levenshtein\n",
            "\u001b[?25l  Downloading https://files.pythonhosted.org/packages/42/a9/d1785c85ebf9b7dfacd08938dd028209c34a0ea3b1bcdb895208bd40a67d/python-Levenshtein-0.12.0.tar.gz (48kB)\n",
            "\u001b[K     |████████████████████████████████| 51kB 2.1MB/s \n",
            "\u001b[?25hRequirement already satisfied: setuptools in /usr/local/lib/python3.6/dist-packages (from python-Levenshtein) (50.3.2)\n",
            "Building wheels for collected packages: python-Levenshtein\n",
            "  Building wheel for python-Levenshtein (setup.py) ... \u001b[?25l\u001b[?25hdone\n",
            "  Created wheel for python-Levenshtein: filename=python_Levenshtein-0.12.0-cp36-cp36m-linux_x86_64.whl size=144790 sha256=f12e17861aba9730f0b13eaf135de9176f58fafa0187092026d6f99e874b9c11\n",
            "  Stored in directory: /root/.cache/pip/wheels/de/c2/93/660fd5f7559049268ad2dc6d81c4e39e9e36518766eaf7e342\n",
            "Successfully built python-Levenshtein\n",
            "Installing collected packages: python-Levenshtein\n",
            "Successfully installed python-Levenshtein-0.12.0\n",
            "Collecting fuzzywuzzy\n",
            "  Downloading https://files.pythonhosted.org/packages/43/ff/74f23998ad2f93b945c0309f825be92e04e0348e062026998b5eefef4c33/fuzzywuzzy-0.18.0-py2.py3-none-any.whl\n",
            "Installing collected packages: fuzzywuzzy\n",
            "Successfully installed fuzzywuzzy-0.18.0\n",
            "  Building wheel for gpt-2-simple (setup.py) ... \u001b[?25l\u001b[?25hdone\n",
            "Collecting stop-words\n",
            "  Downloading https://files.pythonhosted.org/packages/1c/cb/d58290804b7a4c5daa42abbbe2a93c477ae53e45541b1825e86f0dfaaf63/stop-words-2018.7.23.tar.gz\n",
            "Building wheels for collected packages: stop-words\n",
            "  Building wheel for stop-words (setup.py) ... \u001b[?25l\u001b[?25hdone\n",
            "  Created wheel for stop-words: filename=stop_words-2018.7.23-cp36-none-any.whl size=32916 sha256=6358c4f9a61ed13758186387f5ef7a4666dc1af3239e6f471f6fcbfa9ab296d0\n",
            "  Stored in directory: /root/.cache/pip/wheels/75/37/6a/2b295e03bd07290f0da95c3adb9a74ba95fbc333aa8b0c7c78\n",
            "Successfully built stop-words\n",
            "Installing collected packages: stop-words\n",
            "Successfully installed stop-words-2018.7.23\n",
            "Processing ./pl_spacy_model-0.1.0.tar.gz\n",
            "Building wheels for collected packages: pl-spacy-model\n",
            "  Building wheel for pl-spacy-model (setup.py) ... \u001b[?25l\u001b[?25hdone\n",
            "  Created wheel for pl-spacy-model: filename=pl_spacy_model-0.1.0-cp36-none-any.whl size=170055760 sha256=0a5f2af643889c1fb349ab64ecd9c000473ac44bb9281c15f8894b306615b500\n",
            "  Stored in directory: /root/.cache/pip/wheels/29/14/9d/2ecf1cef5ae07df4afb4e298ae8af7d8f846dbc22435da39b0\n",
            "Successfully built pl-spacy-model\n",
            "Installing collected packages: pl-spacy-model\n",
            "Successfully installed pl-spacy-model-0.1.0\n",
            "Collecting python-pptx\n",
            "\u001b[?25l  Downloading https://files.pythonhosted.org/packages/bf/86/eb979f7b0333ec769041aae36df8b9f1bd8bea5bbad44620663890dce561/python-pptx-0.6.18.tar.gz (8.9MB)\n",
            "\u001b[K     |████████████████████████████████| 8.9MB 6.9MB/s \n",
            "\u001b[?25hRequirement already satisfied: lxml>=3.1.0 in /usr/local/lib/python3.6/dist-packages (from python-pptx) (4.2.6)\n",
            "Requirement already satisfied: Pillow>=3.3.2 in /usr/local/lib/python3.6/dist-packages (from python-pptx) (7.0.0)\n",
            "Collecting XlsxWriter>=0.5.7\n",
            "\u001b[?25l  Downloading https://files.pythonhosted.org/packages/6b/41/bf1aae04932d1eaffee1fc5f8b38ca47bbbf07d765129539bc4bcce1ce0c/XlsxWriter-1.3.7-py2.py3-none-any.whl (144kB)\n",
            "\u001b[K     |████████████████████████████████| 153kB 41.0MB/s \n",
            "\u001b[?25hBuilding wheels for collected packages: python-pptx\n",
            "  Building wheel for python-pptx (setup.py) ... \u001b[?25l\u001b[?25hdone\n",
            "  Created wheel for python-pptx: filename=python_pptx-0.6.18-cp36-none-any.whl size=275707 sha256=72867396f5185563b0cf6791ce69b14be431ba1e1027eb12b12500e7f46d0f8a\n",
            "  Stored in directory: /root/.cache/pip/wheels/1f/1f/2c/29acca422b420a0b5210bd2cd7e9669804520d602d2462f20b\n",
            "Successfully built python-pptx\n",
            "Installing collected packages: XlsxWriter, python-pptx\n",
            "Successfully installed XlsxWriter-1.3.7 python-pptx-0.6.18\n",
            "Collecting git+https://github.com/robintw/PandasToPowerpoint.git\n",
            "  Cloning https://github.com/robintw/PandasToPowerpoint.git to /tmp/pip-req-build-gvtrhyju\n",
            "  Running command git clone -q https://github.com/robintw/PandasToPowerpoint.git /tmp/pip-req-build-gvtrhyju\n",
            "Requirement already satisfied: pandas in /usr/local/lib/python3.6/dist-packages (from pd2ppt==0.1.0) (1.1.4)\n",
            "Requirement already satisfied: six in /usr/local/lib/python3.6/dist-packages (from pd2ppt==0.1.0) (1.15.0)\n",
            "Requirement already satisfied: python-pptx in /usr/local/lib/python3.6/dist-packages (from pd2ppt==0.1.0) (0.6.18)\n",
            "Requirement already satisfied: pytz>=2017.2 in /usr/local/lib/python3.6/dist-packages (from pandas->pd2ppt==0.1.0) (2018.9)\n",
            "Requirement already satisfied: python-dateutil>=2.7.3 in /usr/local/lib/python3.6/dist-packages (from pandas->pd2ppt==0.1.0) (2.8.1)\n",
            "Requirement already satisfied: numpy>=1.15.4 in /usr/local/lib/python3.6/dist-packages (from pandas->pd2ppt==0.1.0) (1.18.5)\n",
            "Requirement already satisfied: Pillow>=3.3.2 in /usr/local/lib/python3.6/dist-packages (from python-pptx->pd2ppt==0.1.0) (7.0.0)\n",
            "Requirement already satisfied: lxml>=3.1.0 in /usr/local/lib/python3.6/dist-packages (from python-pptx->pd2ppt==0.1.0) (4.2.6)\n",
            "Requirement already satisfied: XlsxWriter>=0.5.7 in /usr/local/lib/python3.6/dist-packages (from python-pptx->pd2ppt==0.1.0) (1.3.7)\n",
            "Building wheels for collected packages: pd2ppt\n",
            "  Building wheel for pd2ppt (setup.py) ... \u001b[?25l\u001b[?25hdone\n",
            "  Created wheel for pd2ppt: filename=pd2ppt-0.1.0-cp36-none-any.whl size=4597 sha256=e963a291c5620682b75af14b5edfb6069a344c96f168025191bd9f7c043b3503\n",
            "  Stored in directory: /tmp/pip-ephem-wheel-cache-a9g_30a6/wheels/a9/ef/16/9f39fbc24e1e3c67eb362be57762eb175df123be57b3a754a1\n",
            "Successfully built pd2ppt\n",
            "Installing collected packages: pd2ppt\n",
            "Successfully installed pd2ppt-0.1.0\n"
          ],
          "name": "stdout"
        }
      ]
    },
    {
      "cell_type": "code",
      "metadata": {
        "colab": {
          "base_uri": "https://localhost:8080/"
        },
        "id": "ETQNGmSp5t1f",
        "outputId": "2e786571-610d-4737-a765-9f9538ad183c"
      },
      "source": [
        "%tensorflow_version 1.x\n",
        "import pandas as pd\n",
        "import gpt_2_simple as gpt2\n",
        "import tensorflow as tf\n",
        "import banksterzy as bank #biblioteka, którą pobraliśmy w pierwszym kroku jako jeden z plików\n",
        "\n",
        "from datetime import datetime\n",
        "from google.colab import files"
      ],
      "execution_count": null,
      "outputs": [
        {
          "output_type": "stream",
          "text": [
            "TensorFlow 1.x selected.\n",
            "WARNING:tensorflow:\n",
            "The TensorFlow contrib module will not be included in TensorFlow 2.0.\n",
            "For more information, please see:\n",
            "  * https://github.com/tensorflow/community/blob/master/rfcs/20180907-contrib-sunset.md\n",
            "  * https://github.com/tensorflow/addons\n",
            "  * https://github.com/tensorflow/io (for I/O related ops)\n",
            "If you depend on functionality not listed there, please file an issue.\n",
            "\n"
          ],
          "name": "stdout"
        }
      ]
    },
    {
      "cell_type": "markdown",
      "metadata": {
        "id": "4xIzJDi3-c2c"
      },
      "source": [
        "**Nagraj słowa, od których ma się rozpoczynać Twój wiersz :)**"
      ]
    },
    {
      "cell_type": "code",
      "metadata": {
        "colab": {
          "base_uri": "https://localhost:8080/",
          "height": 84
        },
        "id": "vytpEJ3_-C7T",
        "outputId": "070ac7ab-96c9-4495-df1a-f092e911d0ed"
      },
      "source": [
        "words = bank.podyktuj_wers(5)\n",
        "print('---------------------')\n",
        "print(words)"
      ],
      "execution_count": null,
      "outputs": [
        {
          "output_type": "stream",
          "text": [
            "Mów teraz\n"
          ],
          "name": "stdout"
        },
        {
          "output_type": "display_data",
          "data": {
            "application/javascript": [
              "\n",
              "const sleep  = time => new Promise(resolve => setTimeout(resolve, time))\n",
              "const b2text = blob => new Promise(resolve => {\n",
              "  const reader = new FileReader() \n",
              "  reader.onloadend = e => resolve(e.srcElement.result)\n",
              "  reader.readAsDataURL(blob)\n",
              "})\n",
              "var record = time => new Promise(async resolve => {\n",
              "  stream = await navigator.mediaDevices.getUserMedia({ audio: true })\n",
              "  recorder = new MediaRecorder(stream)\n",
              "  chunks = []\n",
              "  recorder.ondataavailable = e => chunks.push(e.data)\n",
              "  recorder.start()\n",
              "  await sleep(time)\n",
              "  recorder.onstop = async ()=>{\n",
              "    blob = new Blob(chunks)\n",
              "    text = await b2text(blob)\n",
              "    resolve(text)\n",
              "  }\n",
              "  recorder.stop()\n",
              "})\n"
            ],
            "text/plain": [
              "<IPython.core.display.Javascript object>"
            ]
          },
          "metadata": {
            "tags": []
          }
        },
        {
          "output_type": "stream",
          "text": [
            "Nagrywanie zakończone, dziękuję!\n",
            "---------------------\n",
            "Poproszę o nowy wiersz\n"
          ],
          "name": "stdout"
        }
      ]
    },
    {
      "cell_type": "markdown",
      "metadata": {
        "id": "bekE0Nq9-9hY"
      },
      "source": [
        "**Generowanie wiersza z modelu GPT-2**"
      ]
    },
    {
      "cell_type": "code",
      "metadata": {
        "id": "O1-dOMdYposu",
        "colab": {
          "base_uri": "https://localhost:8080/"
        },
        "outputId": "7dc6f905-4e4b-4947-a2c5-3a861fb6695f"
      },
      "source": [
        "#wypakowanie i wczytanie wytrenowanych parametów dla modelu GPT-2\n",
        "bank.unpack_checkpoints(run_name='mm_model_355M_final')\n",
        "\n",
        "sess = gpt2.start_tf_sess()\n",
        "gpt2.load_gpt2(sess, run_name='mm_model_355M_final')"
      ],
      "execution_count": null,
      "outputs": [
        {
          "output_type": "stream",
          "text": [
            "Loading checkpoint checkpoint/mm_model_355M_final/model-160000\n",
            "INFO:tensorflow:Restoring parameters from checkpoint/mm_model_355M_final/model-160000\n"
          ],
          "name": "stdout"
        }
      ]
    },
    {
      "cell_type": "code",
      "metadata": {
        "id": "0Vs3nb6IpUvu"
      },
      "source": [
        "# wytrenowanie nsamples wierszy\n",
        "poems = gpt2.generate(sess,\n",
        "                          run_name='mm_model_355M_final',\n",
        "                          length=200,\n",
        "                          temperature=0.7,\n",
        "                          prefix = words,\n",
        "                          nsamples=5,\n",
        "                          batch_size=5,\n",
        "                          return_as_list=True)"
      ],
      "execution_count": null,
      "outputs": []
    },
    {
      "cell_type": "markdown",
      "metadata": {
        "id": "ZMgOMAUa_Ws7"
      },
      "source": [
        "**Oto Twój wiersz:**"
      ]
    },
    {
      "cell_type": "code",
      "metadata": {
        "colab": {
          "base_uri": "https://localhost:8080/"
        },
        "id": "B4SQjWhHBbdS",
        "outputId": "6ffb9286-2db7-4d52-9a34-82779ea3e5e0"
      },
      "source": [
        "# wybór 1 wiersza spełniającego wstępne warunki z listy poems\n",
        "wygenerowany_wiersz = bank.final_poem(poems, words)\n",
        "print(wygenerowany_wiersz)"
      ],
      "execution_count": null,
      "outputs": [
        {
          "output_type": "stream",
          "text": [
            "Poproszę o nowy wiersz, któryś jest, jak byłeś.\n",
            "Szedłem tu i na miasto, a było tam stare,\n",
            "Tak głośno, że wzrok śmiały był ukryty szorstki.\n",
            "Księża było wprost tam i mrok, a nocą było\n",
            "Lepkiem, niźli ślepy zwierz. Wieczorem było,\n",
            "A później noc mrozem, a później pół rosną,\n",
            "Niż się przed ziemi zjawił lub w nocy milosną.\n"
          ],
          "name": "stdout"
        }
      ]
    },
    {
      "cell_type": "markdown",
      "metadata": {
        "id": "KskH7pP-Zt3p"
      },
      "source": [
        "**A gdybyś chciał sprawdzić w jakim % Twój wiersz odpowiada której epoce literackiej, to możesz to sprawdzić tutaj:**"
      ]
    },
    {
      "cell_type": "code",
      "metadata": {
        "colab": {
          "base_uri": "https://localhost:8080/",
          "height": 406
        },
        "id": "89kQoZyTB4I6",
        "outputId": "323673af-7cbe-4099-de17-e93e40df5a6d"
      },
      "source": [
        "ktora_epoka, df_wiersz = bank.ktora_epoka(wygenerowany_wiersz)"
      ],
      "execution_count": null,
      "outputs": [
        {
          "output_type": "stream",
          "text": [
            "[nltk_data] Downloading package stopwords to /root/nltk_data...\n",
            "[nltk_data]   Package stopwords is already up-to-date!\n",
            "0\n"
          ],
          "name": "stdout"
        },
        {
          "output_type": "display_data",
          "data": {
            "image/png": "[encoded data removed]",
            "text/plain": [
              "<Figure size 720x360 with 1 Axes>"
            ]
          },
          "metadata": {
            "tags": [],
            "needs_background": "light"
          }
        }
      ]
    },
    {
      "cell_type": "markdown",
      "metadata": {
        "id": "bIb-HNdkyfVy"
      },
      "source": [
        "**A tutaj możesz zapisać wynik w formie slajdów :)**"
      ]
    },
    {
      "cell_type": "code",
      "metadata": {
        "colab": {
          "base_uri": "https://localhost:8080/",
          "height": 34
        },
        "id": "JH_Afq1OJ2ax",
        "outputId": "1ff267dc-4882-470b-d292-987b973c5027"
      },
      "source": [
        "bank.pobierz_ppt(words, df_wiersz)"
      ],
      "execution_count": null,
      "outputs": [
        {
          "output_type": "display_data",
          "data": {
            "application/javascript": [
              "\n",
              "    async function download(id, filename, size) {\n",
              "      if (!google.colab.kernel.accessAllowed) {\n",
              "        return;\n",
              "      }\n",
              "      const div = document.createElement('div');\n",
              "      const label = document.createElement('label');\n",
              "      label.textContent = `Downloading \"${filename}\": `;\n",
              "      div.appendChild(label);\n",
              "      const progress = document.createElement('progress');\n",
              "      progress.max = size;\n",
              "      div.appendChild(progress);\n",
              "      document.body.appendChild(div);\n",
              "\n",
              "      const buffers = [];\n",
              "      let downloaded = 0;\n",
              "\n",
              "      const channel = await google.colab.kernel.comms.open(id);\n",
              "      // Send a message to notify the kernel that we're ready.\n",
              "      channel.send({})\n",
              "\n",
              "      for await (const message of channel.messages) {\n",
              "        // Send a message to notify the kernel that we're ready.\n",
              "        channel.send({})\n",
              "        if (message.buffers) {\n",
              "          for (const buffer of message.buffers) {\n",
              "            buffers.push(buffer);\n",
              "            downloaded += buffer.byteLength;\n",
              "            progress.value = downloaded;\n",
              "          }\n",
              "        }\n",
              "      }\n",
              "      const blob = new Blob(buffers, {type: 'application/binary'});\n",
              "      const a = document.createElement('a');\n",
              "      a.href = window.URL.createObjectURL(blob);\n",
              "      a.download = filename;\n",
              "      div.appendChild(a);\n",
              "      a.click();\n",
              "      div.remove();\n",
              "    }\n",
              "  "
            ],
            "text/plain": [
              "<IPython.core.display.Javascript object>"
            ]
          },
          "metadata": {
            "tags": []
          }
        },
        {
          "output_type": "display_data",
          "data": {
            "application/javascript": [
              "download(\"download_f49efd40-ed8d-46e7-826d-3cd6d6ef7469\", \"wiersz_rezultat.pptx\", 51324)"
            ],
            "text/plain": [
              "<IPython.core.display.Javascript object>"
            ]
          },
          "metadata": {
            "tags": []
          }
        },
        {
          "output_type": "stream",
          "text": [
            "done\n"
          ],
          "name": "stdout"
        }
      ]
    }
  ]
}