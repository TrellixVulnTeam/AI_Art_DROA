{
  "nbformat": 4,
  "nbformat_minor": 0,
  "metadata": {
    "colab": {
      "name": "Model_epoka",
      "provenance": [],
      "collapsed_sections": []
    },
    "kernelspec": {
      "name": "python3",
      "display_name": "Python 3"
    },
    "accelerator": "GPU"
  },
  "cells": [
    {
      "cell_type": "markdown",
      "metadata": {
        "id": "LHCUJ38aUA0p"
      },
      "source": [
        "Instalacja dodatkowego pakietu"
      ]
    },
    {
      "cell_type": "code",
      "metadata": {
        "colab": {
          "base_uri": "https://localhost:8080/"
        },
        "id": "kOhcX0-Gx2UB",
        "outputId": "f8543b6b-9f2d-4b88-e7a5-16e62aef9fb5"
      },
      "source": [
        "!pip install stop-words\n",
        "!pip install '/content/drive/My Drive/pl_spacy_model-0.1.0.tar.gz'"
      ],
      "execution_count": 7,
      "outputs": [
        {
          "output_type": "stream",
          "text": [
            "Requirement already satisfied: stop-words in /usr/local/lib/python3.6/dist-packages (2018.7.23)\n",
            "Processing ./drive/My Drive/pl_spacy_model-0.1.0.tar.gz\n",
            "Building wheels for collected packages: pl-spacy-model\n",
            "  Building wheel for pl-spacy-model (setup.py) ... \u001b[?25l\u001b[?25hdone\n",
            "  Created wheel for pl-spacy-model: filename=pl_spacy_model-0.1.0-cp36-none-any.whl size=170055760 sha256=de18fa4618e00d5b3e10188a44f0a9034a591105dd2b710c87b2927c654278b7\n",
            "  Stored in directory: /root/.cache/pip/wheels/b4/4c/1e/36e1976ddd91a3fe26391b3f45b078702d065021ae83dd69ae\n",
            "Successfully built pl-spacy-model\n",
            "Installing collected packages: pl-spacy-model\n",
            "Successfully installed pl-spacy-model-0.1.0\n"
          ],
          "name": "stdout"
        }
      ]
    },
    {
      "cell_type": "markdown",
      "metadata": {
        "id": "Vhorm6hJUIiA"
      },
      "source": [
        "Ładujemy pakiety"
      ]
    },
    {
      "cell_type": "code",
      "metadata": {
        "id": "d8KrVzILuoxu"
      },
      "source": [
        "from google.colab import drive\n",
        "import pandas as pd\n",
        "from stop_words import get_stop_words\n",
        "import pickle\n",
        "import re\n",
        "import nltk\n",
        "from nltk.corpus import stopwords\n",
        "from nltk.stem import WordNetLemmatizer\n",
        "from sklearn.feature_extraction.text import TfidfVectorizer\n",
        "from sklearn.model_selection import train_test_split\n",
        "from sklearn.feature_selection import chi2\n",
        "import numpy as np\n",
        "import spacy\n",
        "import pl_spacy_model\n",
        "import warnings\n",
        "warnings.filterwarnings('ignore')\n",
        "from datetime import datetime\n",
        "from sklearn.model_selection import RandomizedSearchCV, GridSearchCV\n",
        "from sklearn import metrics\n",
        "from sklearn.metrics import roc_auc_score\n",
        "from sklearn.model_selection import KFold\n",
        "from xgboost import XGBClassifier"
      ],
      "execution_count": 8,
      "outputs": []
    },
    {
      "cell_type": "markdown",
      "metadata": {
        "id": "VkyvF2NUURdd"
      },
      "source": [
        "Podłączamy się do google dyska"
      ]
    },
    {
      "cell_type": "code",
      "metadata": {
        "colab": {
          "base_uri": "https://localhost:8080/"
        },
        "id": "XTzB6To5rjjk",
        "outputId": "836e2f17-dc5c-4333-d14e-ff6c59402072"
      },
      "source": [
        "drive.mount(\"/content/drive\")"
      ],
      "execution_count": 4,
      "outputs": [
        {
          "output_type": "stream",
          "text": [
            "Mounted at /content/drive\n"
          ],
          "name": "stdout"
        }
      ]
    },
    {
      "cell_type": "code",
      "metadata": {
        "id": "bw3fqsz9sXMZ"
      },
      "source": [
        "dane = pd.read_csv('/content/drive/My Drive/wiersze_epoki.csv', encoding='cp1250')"
      ],
      "execution_count": 6,
      "outputs": []
    },
    {
      "cell_type": "code",
      "metadata": {
        "colab": {
          "base_uri": "https://localhost:8080/",
          "height": 195
        },
        "id": "2ezlMSSxs4KR",
        "outputId": "f838efec-795d-4def-d8e7-f171e04007c8"
      },
      "source": [
        "dane.head(5)"
      ],
      "execution_count": null,
      "outputs": [
        {
          "output_type": "execute_result",
          "data": {
            "text/html": [
              "<div>\n",
              "<style scoped>\n",
              "    .dataframe tbody tr th:only-of-type {\n",
              "        vertical-align: middle;\n",
              "    }\n",
              "\n",
              "    .dataframe tbody tr th {\n",
              "        vertical-align: top;\n",
              "    }\n",
              "\n",
              "    .dataframe thead th {\n",
              "        text-align: right;\n",
              "    }\n",
              "</style>\n",
              "<table border=\"1\" class=\"dataframe\">\n",
              "  <thead>\n",
              "    <tr style=\"text-align: right;\">\n",
              "      <th></th>\n",
              "      <th>wiersz</th>\n",
              "      <th>epoka</th>\n",
              "      <th>wiersz_parsed_1</th>\n",
              "      <th>epoka_code</th>\n",
              "    </tr>\n",
              "  </thead>\n",
              "  <tbody>\n",
              "    <tr>\n",
              "      <th>0</th>\n",
              "      <td>Sukienkę miała w paseczki Perkalikową We włosa...</td>\n",
              "      <td>Pozytywizm</td>\n",
              "      <td>sukienkę miała w paseczki perkalikową  włosach...</td>\n",
              "      <td>3</td>\n",
              "    </tr>\n",
              "    <tr>\n",
              "      <th>1</th>\n",
              "      <td>Ach jak mi smutno Mój anioł mnie rzucił W dale...</td>\n",
              "      <td>Pozytywizm</td>\n",
              "      <td>smutno  anioł  rzucił w daleki odbiegł świa...</td>\n",
              "      <td>3</td>\n",
              "    </tr>\n",
              "    <tr>\n",
              "      <th>2</th>\n",
              "      <td>Ach powiedz powiedz jaki Bóg W nadziemskie ubr...</td>\n",
              "      <td>Pozytywizm</td>\n",
              "      <td>powiedz powiedz  bóg w nadziemskie ubrał  sza...</td>\n",
              "      <td>3</td>\n",
              "    </tr>\n",
              "    <tr>\n",
              "      <th>3</th>\n",
              "      <td>Nie szczędź mi rajskich rozkoszy Różanych uste...</td>\n",
              "      <td>Pozytywizm</td>\n",
              "      <td>szczędź  rajskich rozkoszy różanych ustek  ża...</td>\n",
              "      <td>3</td>\n",
              "    </tr>\n",
              "    <tr>\n",
              "      <th>4</th>\n",
              "      <td>Anielskie śpiewają chóry W gwiaździstym błękit...</td>\n",
              "      <td>Pozytywizm</td>\n",
              "      <td>anielskie śpiewają chóry w gwiaździstym błękit...</td>\n",
              "      <td>3</td>\n",
              "    </tr>\n",
              "  </tbody>\n",
              "</table>\n",
              "</div>"
            ],
            "text/plain": [
              "                                              wiersz  ... epoka_code\n",
              "0  Sukienkę miała w paseczki Perkalikową We włosa...  ...          3\n",
              "1  Ach jak mi smutno Mój anioł mnie rzucił W dale...  ...          3\n",
              "2  Ach powiedz powiedz jaki Bóg W nadziemskie ubr...  ...          3\n",
              "3  Nie szczędź mi rajskich rozkoszy Różanych uste...  ...          3\n",
              "4  Anielskie śpiewają chóry W gwiaździstym błękit...  ...          3\n",
              "\n",
              "[5 rows x 4 columns]"
            ]
          },
          "metadata": {
            "tags": []
          },
          "execution_count": 53
        }
      ]
    },
    {
      "cell_type": "markdown",
      "metadata": {
        "id": "HMIkO_V8NvK1"
      },
      "source": [
        "Wstępne przygotowanie danych"
      ]
    },
    {
      "cell_type": "code",
      "metadata": {
        "id": "DFjGodUYu80F"
      },
      "source": [
        "dane['wiersz_parsed_1'] = dane['wiersz'].str.replace(\"\\r\", \" \")\n",
        "dane['wiersz_parsed_1'] = dane['wiersz_parsed_1'].str.replace(\"\\n\", \" \")\n",
        "dane['wiersz_parsed_1'] = dane['wiersz_parsed_1'].str.replace(\"    \", \" \")\n",
        "dane['wiersz_parsed_1'] = dane['wiersz_parsed_1'].str.lower()"
      ],
      "execution_count": null,
      "outputs": []
    },
    {
      "cell_type": "code",
      "metadata": {
        "id": "4vZWEL9kvimh"
      },
      "source": [
        "punctuation_signs = list(\"?:!.,;-\")\n",
        "\n",
        "for punct_sign in punctuation_signs:\n",
        "    dane['wiersz_parsed_1'] = dane['wiersz_parsed_1'].str.replace(punct_sign, '')"
      ],
      "execution_count": null,
      "outputs": []
    },
    {
      "cell_type": "markdown",
      "metadata": {
        "id": "Yv4iU_j-Nocf"
      },
      "source": [
        "Polskie stopwordsy"
      ]
    },
    {
      "cell_type": "code",
      "metadata": {
        "colab": {
          "base_uri": "https://localhost:8080/"
        },
        "id": "h__6fyh7xomL",
        "outputId": "2841341a-5722-4227-99f2-ddd3b47450e3"
      },
      "source": [
        "nltk.download('stopwords')"
      ],
      "execution_count": null,
      "outputs": [
        {
          "output_type": "stream",
          "text": [
            "[nltk_data] Downloading package stopwords to /root/nltk_data...\n",
            "[nltk_data]   Unzipping corpora/stopwords.zip.\n"
          ],
          "name": "stdout"
        },
        {
          "output_type": "execute_result",
          "data": {
            "text/plain": [
              "True"
            ]
          },
          "metadata": {
            "tags": []
          },
          "execution_count": 27
        }
      ]
    },
    {
      "cell_type": "code",
      "metadata": {
        "id": "Fh3ZfMuoxrc5"
      },
      "source": [
        "stop_words = get_stop_words('pl')"
      ],
      "execution_count": null,
      "outputs": []
    },
    {
      "cell_type": "code",
      "metadata": {
        "id": "Zk0npDryzOoe"
      },
      "source": [
        "for stop_word in stop_words:\n",
        "\n",
        "    regex_stopword = r\"\\b\" + stop_word + r\"\\b\"\n",
        "    dane['wiersz_parsed_1'] = dane['wiersz_parsed_1'].str.replace(regex_stopword, '')"
      ],
      "execution_count": null,
      "outputs": []
    },
    {
      "cell_type": "markdown",
      "metadata": {
        "id": "zKyLwQWSNgCB"
      },
      "source": [
        "Przygotowanie zmiennej celu"
      ]
    },
    {
      "cell_type": "code",
      "metadata": {
        "colab": {
          "base_uri": "https://localhost:8080/",
          "height": 314
        },
        "id": "Zqb1O_ia2JsD",
        "outputId": "c7708117-86f9-4a84-a84e-7cbb127f1712"
      },
      "source": [
        "(dane.groupby([\"epoka\"])\n",
        "    .agg(['count']))"
      ],
      "execution_count": null,
      "outputs": [
        {
          "output_type": "execute_result",
          "data": {
            "text/html": [
              "<div>\n",
              "<style scoped>\n",
              "    .dataframe tbody tr th:only-of-type {\n",
              "        vertical-align: middle;\n",
              "    }\n",
              "\n",
              "    .dataframe tbody tr th {\n",
              "        vertical-align: top;\n",
              "    }\n",
              "\n",
              "    .dataframe thead tr th {\n",
              "        text-align: left;\n",
              "    }\n",
              "\n",
              "    .dataframe thead tr:last-of-type th {\n",
              "        text-align: right;\n",
              "    }\n",
              "</style>\n",
              "<table border=\"1\" class=\"dataframe\">\n",
              "  <thead>\n",
              "    <tr>\n",
              "      <th></th>\n",
              "      <th>wiersz</th>\n",
              "      <th>wiersz_parsed_1</th>\n",
              "    </tr>\n",
              "    <tr>\n",
              "      <th></th>\n",
              "      <th>count</th>\n",
              "      <th>count</th>\n",
              "    </tr>\n",
              "    <tr>\n",
              "      <th>epoka</th>\n",
              "      <th></th>\n",
              "      <th></th>\n",
              "    </tr>\n",
              "  </thead>\n",
              "  <tbody>\n",
              "    <tr>\n",
              "      <th>Barok</th>\n",
              "      <td>400</td>\n",
              "      <td>400</td>\n",
              "    </tr>\n",
              "    <tr>\n",
              "      <th>Młoda Polska</th>\n",
              "      <td>3523</td>\n",
              "      <td>3523</td>\n",
              "    </tr>\n",
              "    <tr>\n",
              "      <th>Oświecenie</th>\n",
              "      <td>428</td>\n",
              "      <td>428</td>\n",
              "    </tr>\n",
              "    <tr>\n",
              "      <th>Pozytywizm</th>\n",
              "      <td>1719</td>\n",
              "      <td>1719</td>\n",
              "    </tr>\n",
              "    <tr>\n",
              "      <th>Renesans</th>\n",
              "      <td>780</td>\n",
              "      <td>780</td>\n",
              "    </tr>\n",
              "    <tr>\n",
              "      <th>Romantyzm</th>\n",
              "      <td>1726</td>\n",
              "      <td>1726</td>\n",
              "    </tr>\n",
              "    <tr>\n",
              "      <th>XX-lecie</th>\n",
              "      <td>3470</td>\n",
              "      <td>3470</td>\n",
              "    </tr>\n",
              "  </tbody>\n",
              "</table>\n",
              "</div>"
            ],
            "text/plain": [
              "             wiersz wiersz_parsed_1\n",
              "              count           count\n",
              "epoka                              \n",
              "Barok           400             400\n",
              "Młoda Polska   3523            3523\n",
              "Oświecenie      428             428\n",
              "Pozytywizm     1719            1719\n",
              "Renesans        780             780\n",
              "Romantyzm      1726            1726\n",
              "XX-lecie       3470            3470"
            ]
          },
          "metadata": {
            "tags": []
          },
          "execution_count": 46
        }
      ]
    },
    {
      "cell_type": "code",
      "metadata": {
        "id": "JgtUEJqq2G1w"
      },
      "source": [
        "category_codes = {\n",
        "    'Barok': 0,\n",
        "    'Młoda Polska': 1,\n",
        "    'Oświecenie': 2,\n",
        "    'Pozytywizm': 3,\n",
        "    'Renesans': 4,\n",
        "    'Romantyzm': 5,\n",
        "    'XX-lecie': 6\n",
        "}"
      ],
      "execution_count": null,
      "outputs": []
    },
    {
      "cell_type": "code",
      "metadata": {
        "id": "sSqAQIlL3WTy"
      },
      "source": [
        "dane['epoka_code'] = dane['epoka']\n",
        "dane = dane.replace({'epoka_code':category_codes})"
      ],
      "execution_count": null,
      "outputs": []
    },
    {
      "cell_type": "markdown",
      "metadata": {
        "id": "9dVGxru8M9tF"
      },
      "source": [
        "Lematyzacja"
      ]
    },
    {
      "cell_type": "code",
      "metadata": {
        "id": "9tegfOdq-UEJ"
      },
      "source": [
        "nlp = pl_spacy_model.load()\n",
        "\n",
        "nrows = len(dane)\n",
        "lemmatized_text_list = []\n",
        "\n",
        "for row in range(0, nrows):    \n",
        "    print(row)\n",
        "    lemmatized_list = []\n",
        "    \n",
        "    # Save the text and its words into an object\n",
        "    text = dane.loc[row]['wiersz_parsed_1']\n",
        "\n",
        "    # Iterate through every word to lemmatize\n",
        "    doc = nlp(str(text))\n",
        "    for token in doc:\n",
        "        lemmatized_list.append(token.lemma_)\n",
        "        \n",
        "    # Join the list\n",
        "    lemmatized_text = \" \".join(lemmatized_list)\n",
        "    \n",
        "    # Append to the list containing the texts\n",
        "    lemmatized_text_list.append(lemmatized_text)\n",
        "    "
      ],
      "execution_count": null,
      "outputs": []
    },
    {
      "cell_type": "code",
      "metadata": {
        "id": "Q3kZaTuYLyix"
      },
      "source": [
        "dane['wiersz_parsed_2'] = lemmatized_text_list"
      ],
      "execution_count": null,
      "outputs": []
    },
    {
      "cell_type": "code",
      "metadata": {
        "colab": {
          "base_uri": "https://localhost:8080/",
          "height": 279
        },
        "id": "tqGjSwGpL5TL",
        "outputId": "6cef0833-6332-4fa3-fdc2-adf0eacde78a"
      },
      "source": [
        "dane.head(5)"
      ],
      "execution_count": null,
      "outputs": [
        {
          "output_type": "execute_result",
          "data": {
            "text/html": [
              "<div>\n",
              "<style scoped>\n",
              "    .dataframe tbody tr th:only-of-type {\n",
              "        vertical-align: middle;\n",
              "    }\n",
              "\n",
              "    .dataframe tbody tr th {\n",
              "        vertical-align: top;\n",
              "    }\n",
              "\n",
              "    .dataframe thead th {\n",
              "        text-align: right;\n",
              "    }\n",
              "</style>\n",
              "<table border=\"1\" class=\"dataframe\">\n",
              "  <thead>\n",
              "    <tr style=\"text-align: right;\">\n",
              "      <th></th>\n",
              "      <th>wiersz</th>\n",
              "      <th>epoka</th>\n",
              "      <th>wiersz_parsed_1</th>\n",
              "      <th>epoka_code</th>\n",
              "      <th>wiersz_parsed_2</th>\n",
              "    </tr>\n",
              "  </thead>\n",
              "  <tbody>\n",
              "    <tr>\n",
              "      <th>0</th>\n",
              "      <td>Sukienkę miała w paseczki Perkalikową We włosa...</td>\n",
              "      <td>Pozytywizm</td>\n",
              "      <td>sukienkę miała w paseczki perkalikową  włosach...</td>\n",
              "      <td>3</td>\n",
              "      <td>sukienka mieć w paseczek perkalikowy   włos po...</td>\n",
              "    </tr>\n",
              "    <tr>\n",
              "      <th>1</th>\n",
              "      <td>Ach jak mi smutno Mój anioł mnie rzucił W dale...</td>\n",
              "      <td>Pozytywizm</td>\n",
              "      <td>smutno  anioł  rzucił w daleki odbiegł świa...</td>\n",
              "      <td>3</td>\n",
              "      <td>smutno   anioł   rzucić w daleki odbiec św...</td>\n",
              "    </tr>\n",
              "    <tr>\n",
              "      <th>2</th>\n",
              "      <td>Ach powiedz powiedz jaki Bóg W nadziemskie ubr...</td>\n",
              "      <td>Pozytywizm</td>\n",
              "      <td>powiedz powiedz  bóg w nadziemskie ubrał  sza...</td>\n",
              "      <td>3</td>\n",
              "      <td>powiedzieć powiedzieć   bóg w nadziemski ubr...</td>\n",
              "    </tr>\n",
              "    <tr>\n",
              "      <th>3</th>\n",
              "      <td>Nie szczędź mi rajskich rozkoszy Różanych uste...</td>\n",
              "      <td>Pozytywizm</td>\n",
              "      <td>szczędź  rajskich rozkoszy różanych ustek  ża...</td>\n",
              "      <td>3</td>\n",
              "      <td>szczędź   rajski rozkosz różany ustka   żało...</td>\n",
              "    </tr>\n",
              "    <tr>\n",
              "      <th>4</th>\n",
              "      <td>Anielskie śpiewają chóry W gwiaździstym błękit...</td>\n",
              "      <td>Pozytywizm</td>\n",
              "      <td>anielskie śpiewają chóry w gwiaździstym błękit...</td>\n",
              "      <td>3</td>\n",
              "      <td>anielski śpiewać chór w gwiaździsty błękit mor...</td>\n",
              "    </tr>\n",
              "  </tbody>\n",
              "</table>\n",
              "</div>"
            ],
            "text/plain": [
              "                                              wiersz  ...                                    wiersz_parsed_2\n",
              "0  Sukienkę miała w paseczki Perkalikową We włosa...  ...  sukienka mieć w paseczek perkalikowy   włos po...\n",
              "1  Ach jak mi smutno Mój anioł mnie rzucił W dale...  ...      smutno   anioł   rzucić w daleki odbiec św...\n",
              "2  Ach powiedz powiedz jaki Bóg W nadziemskie ubr...  ...    powiedzieć powiedzieć   bóg w nadziemski ubr...\n",
              "3  Nie szczędź mi rajskich rozkoszy Różanych uste...  ...    szczędź   rajski rozkosz różany ustka   żało...\n",
              "4  Anielskie śpiewają chóry W gwiaździstym błękit...  ...  anielski śpiewać chór w gwiaździsty błękit mor...\n",
              "\n",
              "[5 rows x 5 columns]"
            ]
          },
          "metadata": {
            "tags": []
          },
          "execution_count": 95
        }
      ]
    },
    {
      "cell_type": "markdown",
      "metadata": {
        "id": "xcgtTUr3NIlD"
      },
      "source": [
        "Podział train/test"
      ]
    },
    {
      "cell_type": "code",
      "metadata": {
        "id": "QuuxYbZaMNKm"
      },
      "source": [
        "X_train, X_test, y_train, y_test = train_test_split(dane['wiersz_parsed_2'], \n",
        "                                                    dane['epoka_code'], \n",
        "                                                    test_size=0.30, \n",
        "                                                    random_state=8)"
      ],
      "execution_count": null,
      "outputs": []
    },
    {
      "cell_type": "markdown",
      "metadata": {
        "id": "ymQOROGlNPkX"
      },
      "source": [
        "Zapis do pickle"
      ]
    },
    {
      "cell_type": "code",
      "metadata": {
        "id": "IOx39rmuMOef"
      },
      "source": [
        "# X_train\n",
        "with open('/content/drive/My Drive/X_train.pickle', 'wb') as output:\n",
        "    pickle.dump(X_train, output)\n",
        "    \n",
        "# X_test    \n",
        "with open('/content/drive/My Drive/X_test.pickle', 'wb') as output:\n",
        "    pickle.dump(X_test, output)\n",
        "    \n",
        "# y_train\n",
        "with open('/content/drive/My Drive/y_train.pickle', 'wb') as output:\n",
        "    pickle.dump(y_train, output)\n",
        "    \n",
        "# y_test\n",
        "with open('/content/drive/My Drive/y_test.pickle', 'wb') as output:\n",
        "    pickle.dump(y_test, output)\n",
        "    \n",
        "# df\n",
        "with open('/content/drive/My Drive/df.pickle', 'wb') as output:\n",
        "    pickle.dump(dane, output)"
      ],
      "execution_count": null,
      "outputs": []
    },
    {
      "cell_type": "markdown",
      "metadata": {
        "id": "uJcMPvfONWMF"
      },
      "source": [
        "Wczytanie z pickla"
      ]
    },
    {
      "cell_type": "code",
      "metadata": {
        "id": "db5oWosqn3RJ"
      },
      "source": [
        "dane = pd.read_pickle(r'/content/drive/My Drive/df.pickle')\n",
        "X_train = pd.read_pickle(r'/content/drive/My Drive/X_train.pickle')\n",
        "X_test = pd.read_pickle(r'/content/drive/My Drive/X_test.pickle')\n",
        "y_train = pd.read_pickle(r'/content/drive/My Drive/y_train.pickle')\n",
        "y_test = pd.read_pickle(r'/content/drive/My Drive/y_test.pickle')"
      ],
      "execution_count": null,
      "outputs": []
    },
    {
      "cell_type": "markdown",
      "metadata": {
        "id": "yo-pUc6cVABj"
      },
      "source": [
        "Transformacja tekstu do TFIDF"
      ]
    },
    {
      "cell_type": "code",
      "metadata": {
        "id": "iHgbbAogqT_S"
      },
      "source": [
        "ngram_range = (1,2)\n",
        "min_df = 10\n",
        "max_df = 1.\n",
        "max_features = 300"
      ],
      "execution_count": null,
      "outputs": []
    },
    {
      "cell_type": "code",
      "metadata": {
        "colab": {
          "base_uri": "https://localhost:8080/"
        },
        "id": "FMFmEot2qZnU",
        "outputId": "cf4e1a01-9502-4a61-9858-4db5d3664d22"
      },
      "source": [
        "tfidf = TfidfVectorizer(encoding='utf-8',\n",
        "                        ngram_range=ngram_range,\n",
        "                        stop_words=None,\n",
        "                        lowercase=False,\n",
        "                        max_df=max_df,\n",
        "                        min_df=min_df,\n",
        "                        max_features=max_features,\n",
        "                        norm='l2',\n",
        "                        sublinear_tf=True)\n",
        "                        \n",
        "features_train = tfidf.fit_transform(X_train).toarray()\n",
        "labels_train = y_train\n",
        "print(features_train.shape)\n",
        "\n",
        "features_test = tfidf.transform(X_test).toarray()\n",
        "labels_test = y_test\n",
        "print(features_test.shape)"
      ],
      "execution_count": null,
      "outputs": [
        {
          "output_type": "stream",
          "text": [
            "(8546, 300)\n",
            "(3663, 300)\n"
          ],
          "name": "stdout"
        }
      ]
    },
    {
      "cell_type": "code",
      "metadata": {
        "id": "mHp0I1wagCgZ"
      },
      "source": [
        "with open('/content/drive/My Drive/tgidf.pickle', 'wb') as output:\n",
        "    pickle.dump(tfidf.vocabulary_, output)"
      ],
      "execution_count": null,
      "outputs": []
    },
    {
      "cell_type": "code",
      "metadata": {
        "id": "pbySBc9lrOZ-"
      },
      "source": [
        "from sklearn.feature_selection import chi2\n",
        "import numpy as np\n",
        "\n",
        "for Product, category_id in sorted(category_codes.items()):\n",
        "    features_chi2 = chi2(features_train, labels_train == category_id)\n",
        "    indices = np.argsort(features_chi2[0])\n",
        "    feature_names = np.array(tfidf.get_feature_names())[indices]\n",
        "    unigrams = [v for v in feature_names if len(v.split(' ')) == 1]\n",
        "    bigrams = [v for v in feature_names if len(v.split(' ')) == 2]\n",
        "    print(\"# '{}' category:\".format(Product))\n",
        "    print(\"  . Most correlated unigrams:\\n. {}\".format('\\n. '.join(unigrams[-5:])))\n",
        "    print(\"  . Most correlated bigrams:\\n. {}\".format('\\n. '.join(bigrams[-2:])))\n",
        "    print(\"\")"
      ],
      "execution_count": null,
      "outputs": []
    },
    {
      "cell_type": "markdown",
      "metadata": {
        "id": "srBaKdL-tsIU"
      },
      "source": [
        "Trenujemy model"
      ]
    },
    {
      "cell_type": "code",
      "metadata": {
        "colab": {
          "base_uri": "https://localhost:8080/"
        },
        "id": "RjCHQdfRt3pJ",
        "outputId": "f8147456-c4e9-4b52-a15f-b0b2948f49e6"
      },
      "source": [
        "print(features_train.shape)\n",
        "print(features_test.shape)"
      ],
      "execution_count": null,
      "outputs": [
        {
          "output_type": "stream",
          "text": [
            "(8546, 300)\n",
            "(3663, 300)\n"
          ],
          "name": "stdout"
        }
      ]
    },
    {
      "cell_type": "code",
      "metadata": {
        "id": "vzb0MLHS2f0F"
      },
      "source": [
        "params = {\n",
        "        'min_child_weight': [2, 3, 5],\n",
        "        'gamma': [2.5, 3, 3.5],\n",
        "        'subsample': [0.5, 0.6, 0.7],\n",
        "        'colsample_bytree': [0.7, 0.8, 0.9],\n",
        "        'max_depth': [2, 3, 4],\n",
        "        'learning_rate': [0.01, 0.02]    \n",
        "        }"
      ],
      "execution_count": null,
      "outputs": []
    },
    {
      "cell_type": "code",
      "metadata": {
        "colab": {
          "base_uri": "https://localhost:8080/"
        },
        "id": "6sRgSieG1IjH",
        "outputId": "36c51d98-5985-497b-952e-0521d3db0a38"
      },
      "source": [
        "folds = 3\n",
        "param_comb = 5\n",
        "\n",
        "skf = StratifiedKFold(n_splits=folds, shuffle = True, random_state = 1001)\n",
        "\n",
        "xgb = XGBClassifier(learning_rate=0.02, n_estimators=1500, objective='multi:softprob',\n",
        "                    silent=True, nthread=6, tree_method='gpu_hist', eval_metric='mlogloss')\n",
        "\n",
        "random_search = RandomizedSearchCV(xgb, param_distributions=params, n_iter=param_comb, n_jobs=4, cv=skf.split(features_train, labels_train), verbose=3, random_state=1001 )\n",
        "\n",
        "random_search.fit(features_train, labels_train)"
      ],
      "execution_count": null,
      "outputs": [
        {
          "output_type": "stream",
          "text": [
            "Fitting 3 folds for each of 5 candidates, totalling 15 fits\n"
          ],
          "name": "stdout"
        },
        {
          "output_type": "stream",
          "text": [
            "[Parallel(n_jobs=4)]: Using backend LokyBackend with 4 concurrent workers.\n",
            "[Parallel(n_jobs=4)]: Done  15 out of  15 | elapsed: 13.7min finished\n"
          ],
          "name": "stderr"
        },
        {
          "output_type": "execute_result",
          "data": {
            "text/plain": [
              "RandomizedSearchCV(cv=<generator object _BaseKFold.split at 0x7f58da923678>,\n",
              "                   error_score=nan,\n",
              "                   estimator=XGBClassifier(base_score=0.5, booster='gbtree',\n",
              "                                           colsample_bylevel=1,\n",
              "                                           colsample_bynode=1,\n",
              "                                           colsample_bytree=1,\n",
              "                                           eval_metric='mlogloss', gamma=0,\n",
              "                                           learning_rate=0.02, max_delta_step=0,\n",
              "                                           max_depth=3, min_child_weight=1,\n",
              "                                           missing=None, n_estimators=1500,\n",
              "                                           n_jobs=1, nthread=6,...\n",
              "                                           seed=None, silent=True, subsample=1,\n",
              "                                           tree_method='gpu_hist',\n",
              "                                           verbosity=1),\n",
              "                   iid='deprecated', n_iter=5, n_jobs=4,\n",
              "                   param_distributions={'colsample_bytree': [0.7, 0.8, 0.9],\n",
              "                                        'gamma': [2.5, 3, 3.5],\n",
              "                                        'learning_rate': [0.01, 0.02],\n",
              "                                        'max_depth': [2, 3, 4],\n",
              "                                        'min_child_weight': [2, 3, 5],\n",
              "                                        'subsample': [0.5, 0.6, 0.7]},\n",
              "                   pre_dispatch='2*n_jobs', random_state=1001, refit=True,\n",
              "                   return_train_score=False, scoring=None, verbose=3)"
            ]
          },
          "metadata": {
            "tags": []
          },
          "execution_count": 94
        }
      ]
    },
    {
      "cell_type": "code",
      "metadata": {
        "colab": {
          "base_uri": "https://localhost:8080/"
        },
        "id": "djfxor1T8xuP",
        "outputId": "1ddddf51-5867-4ffc-cb01-3b9a6b3e169d"
      },
      "source": [
        "print(\"Najlepsze hiperparametry:\")\n",
        "print(random_search.best_params_)\n",
        "print(\"\")\n",
        "print(\"Średnie accuracy:\")\n",
        "print(random_search.best_score_) "
      ],
      "execution_count": null,
      "outputs": [
        {
          "output_type": "stream",
          "text": [
            "The best hyperparameters from Grid Search are:\n",
            "{'subsample': 0.7, 'min_child_weight': 2, 'max_depth': 3, 'learning_rate': 0.02, 'gamma': 3.5, 'colsample_bytree': 0.9}\n",
            "\n",
            "The mean accuracy of a model with these hyperparameters is:\n",
            "0.5609641269753629\n"
          ],
          "name": "stdout"
        }
      ]
    },
    {
      "cell_type": "code",
      "metadata": {
        "id": "yheKR_Wb8_ap"
      },
      "source": [
        "best_xgb = random_search.best_estimator_"
      ],
      "execution_count": null,
      "outputs": []
    },
    {
      "cell_type": "code",
      "metadata": {
        "colab": {
          "base_uri": "https://localhost:8080/"
        },
        "id": "HCObmshl9HAI",
        "outputId": "bf3c4c52-b73b-469f-c9e1-c458bc8124fd"
      },
      "source": [
        "best_xgb.fit(features_train, labels_train)"
      ],
      "execution_count": null,
      "outputs": [
        {
          "output_type": "execute_result",
          "data": {
            "text/plain": [
              "XGBClassifier(base_score=0.5, booster='gbtree', colsample_bylevel=1,\n",
              "              colsample_bynode=1, colsample_bytree=0.9, eval_metric='mlogloss',\n",
              "              gamma=3.5, learning_rate=0.02, max_delta_step=0, max_depth=3,\n",
              "              min_child_weight=2, missing=None, n_estimators=1500, n_jobs=1,\n",
              "              nthread=6, objective='multi:softprob', random_state=0,\n",
              "              reg_alpha=0, reg_lambda=1, scale_pos_weight=1, seed=None,\n",
              "              silent=True, subsample=0.7, tree_method='gpu_hist', verbosity=1)"
            ]
          },
          "metadata": {
            "tags": []
          },
          "execution_count": 97
        }
      ]
    },
    {
      "cell_type": "code",
      "metadata": {
        "id": "WHSCY6_v9nLU"
      },
      "source": [
        "xgb_pred = best_xgb.predict(features_test)"
      ],
      "execution_count": null,
      "outputs": []
    },
    {
      "cell_type": "markdown",
      "metadata": {
        "id": "AUYzZFEQVhnN"
      },
      "source": [
        "Predict z modelu"
      ]
    },
    {
      "cell_type": "code",
      "metadata": {
        "colab": {
          "base_uri": "https://localhost:8080/"
        },
        "id": "p6unMQuk9rXq",
        "outputId": "f5e5c8b4-3717-4bd5-aead-4e7d0f0b5c41"
      },
      "source": [
        "xgb_pred[:10]"
      ],
      "execution_count": null,
      "outputs": [
        {
          "output_type": "execute_result",
          "data": {
            "text/plain": [
              "array([6, 3, 1, 6, 6, 5, 6, 6, 1, 1])"
            ]
          },
          "metadata": {
            "tags": []
          },
          "execution_count": 48
        }
      ]
    },
    {
      "cell_type": "code",
      "metadata": {
        "id": "sWjAgc4C9yjc"
      },
      "source": [
        "xgb_pred_prob = best_xgb.predict_proba(features_test)"
      ],
      "execution_count": null,
      "outputs": []
    },
    {
      "cell_type": "code",
      "metadata": {
        "colab": {
          "base_uri": "https://localhost:8080/"
        },
        "id": "QXcg_viJ-C39",
        "outputId": "0fb622a0-d6f9-4a02-d3df-eda11b1b75fc"
      },
      "source": [
        "print(\"Accuracy na zbiorze train:\")\n",
        "print(accuracy_score(labels_train, best_xgb.predict(features_train)))"
      ],
      "execution_count": null,
      "outputs": [
        {
          "output_type": "stream",
          "text": [
            "The training accuracy is: \n",
            "0.7683126608939855\n"
          ],
          "name": "stdout"
        }
      ]
    },
    {
      "cell_type": "code",
      "metadata": {
        "colab": {
          "base_uri": "https://localhost:8080/"
        },
        "id": "yH6y3vrJ-IB-",
        "outputId": "d860454c-c080-4542-9db0-82bd5cfb43a2"
      },
      "source": [
        "print(\"Accuracy na zbiorze test:\")\n",
        "print(accuracy_score(labels_test, xgb_pred))"
      ],
      "execution_count": null,
      "outputs": [
        {
          "output_type": "stream",
          "text": [
            "The test accuracy is: \n",
            "0.5978705978705978\n"
          ],
          "name": "stdout"
        }
      ]
    },
    {
      "cell_type": "code",
      "metadata": {
        "colab": {
          "base_uri": "https://localhost:8080/"
        },
        "id": "ibuznjJv-NkI",
        "outputId": "fdc75168-22c5-4fc6-8712-cc490a3baa8e"
      },
      "source": [
        "print(classification_report(labels_test,xgb_pred))"
      ],
      "execution_count": null,
      "outputs": [
        {
          "output_type": "stream",
          "text": [
            "Classification report\n",
            "              precision    recall  f1-score   support\n",
            "\n",
            "           0       0.52      0.14      0.22       124\n",
            "           1       0.60      0.69      0.64      1089\n",
            "           2       0.60      0.36      0.45       125\n",
            "           3       0.53      0.33      0.41       490\n",
            "           4       0.77      0.57      0.65       240\n",
            "           5       0.57      0.44      0.50       512\n",
            "           6       0.59      0.79      0.68      1083\n",
            "\n",
            "    accuracy                           0.60      3663\n",
            "   macro avg       0.60      0.47      0.51      3663\n",
            "weighted avg       0.59      0.60      0.58      3663\n",
            "\n"
          ],
          "name": "stdout"
        }
      ]
    },
    {
      "cell_type": "code",
      "metadata": {
        "colab": {
          "base_uri": "https://localhost:8080/",
          "height": 404
        },
        "id": "vOzieuxq-c0P",
        "outputId": "28a54f77-77dd-4c71-de42-e2dd4100577c"
      },
      "source": [
        "aux_df = dane[['epoka', 'epoka_code']].drop_duplicates().sort_values('epoka_code')\n",
        "conf_matrix = confusion_matrix(labels_test, xgb_pred)\n",
        "plt.figure(figsize=(12.8,6))\n",
        "sns.heatmap(conf_matrix, \n",
        "            annot=True,\n",
        "            xticklabels=aux_df['epoka'].values, \n",
        "            yticklabels=aux_df['epoka'].values,\n",
        "            cmap=\"Blues\",\n",
        "            fmt='g')\n",
        "plt.ylabel('Predicted')\n",
        "plt.xlabel('Actual')\n",
        "plt.title('Confusion matrix')\n",
        "plt.show()"
      ],
      "execution_count": null,
      "outputs": [
        {
          "output_type": "display_data",
          "data": {
            "image/png": "[encoded data removed]",
            "text/plain": [
              "<Figure size 921.6x432 with 2 Axes>"
            ]
          },
          "metadata": {
            "tags": [],
            "needs_background": "light"
          }
        }
      ]
    },
    {
      "cell_type": "markdown",
      "metadata": {
        "id": "1Hz6fqMrVx41"
      },
      "source": [
        "Zapis modelu do pickle"
      ]
    },
    {
      "cell_type": "code",
      "metadata": {
        "id": "tX6AAEfuCTR8"
      },
      "source": [
        "with open('/content/drive/My Drive/best_xgb.pickle', 'wb') as output:\n",
        "    pickle.dump(best_xgb, output)"
      ],
      "execution_count": null,
      "outputs": []
    }
  ]
}