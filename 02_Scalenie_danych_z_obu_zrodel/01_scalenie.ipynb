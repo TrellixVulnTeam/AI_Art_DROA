{
 "cells": [
  {
   "cell_type": "markdown",
   "metadata": {},
   "source": [
    "# Scalanie folderów i tworzenie podsumowania"
   ]
  },
  {
   "cell_type": "markdown",
   "metadata": {},
   "source": [
    "#### Różnice & skopiowanie"
   ]
  },
  {
   "cell_type": "code",
   "execution_count": 1,
   "metadata": {},
   "outputs": [],
   "source": [
    "import glob\n",
    "import shutil\n",
    "import os"
   ]
  },
  {
   "cell_type": "code",
   "execution_count": 2,
   "metadata": {},
   "outputs": [
    {
     "name": "stdout",
     "output_type": "stream",
     "text": [
      "Mam 169 autorów z poeci.org\n",
      "Mam 411 autorów z wiki.source\n"
     ]
    }
   ],
   "source": [
    "list_krystian = []\n",
    "\n",
    "for filepath in glob.iglob(r'E:\\DeepArt Scalanie\\KRYSTIAN\\*', recursive=True):\n",
    "    list_krystian.append(filepath)\n",
    "    \n",
    "list_mirek = []\n",
    "\n",
    "for filepath in glob.iglob(r'E:\\DeepArt Scalanie\\MIREK\\*', recursive=True):\n",
    "    list_mirek.append(filepath)\n",
    "    \n",
    "print(f'Mam {len(list_krystian)} autorów z poeci.org')\n",
    "print(f'Mam {len(list_mirek)} autorów z wiki.source')"
   ]
  },
  {
   "cell_type": "code",
   "execution_count": 3,
   "metadata": {},
   "outputs": [
    {
     "name": "stdout",
     "output_type": "stream",
     "text": [
      "znalazłem 358 autorów co nie ma u Krystiana. Zatem dorzucam całość i na resztę nie patrzę!\n"
     ]
    }
   ],
   "source": [
    "krystian = [autor.replace('E:\\\\DeepArt Scalanie\\\\KRYSTIAN\\\\','') for autor in list_krystian]\n",
    "mirek = [autor.replace('E:\\\\DeepArt Scalanie\\\\MIREK\\\\','') for autor in list_mirek]\n",
    "roznica = [autor for autor in mirek if autor not in krystian]\n",
    "\n",
    "print(f'znalazłem {len(roznica)} autorów co nie ma u Krystiana. Zatem dorzucam całość i na resztę nie patrzę!')"
   ]
  },
  {
   "cell_type": "code",
   "execution_count": 11,
   "metadata": {},
   "outputs": [],
   "source": [
    "# kopiowanie folderu \"KRYSTIAN\" do \"FINAL\"\n",
    "for autor in krystian:\n",
    "    source_dir = 'E:\\DeepArt Scalanie\\KRYSTIAN\\\\'+autor\n",
    "    target_dir = 'E:\\DeepArt Scalanie\\FINAL\\\\'+autor\n",
    "\n",
    "    shutil.copytree(source_dir, target_dir, copy_function = shutil.copy)"
   ]
  },
  {
   "cell_type": "code",
   "execution_count": 12,
   "metadata": {},
   "outputs": [],
   "source": [
    "# kopiowanie z folderu \"MIREK\" do \"FINAL\" tylko autorów co nie znalazł\n",
    "for autor in roznica:\n",
    "    source_dir = 'E:\\DeepArt Scalanie\\MIREK\\\\'+autor\n",
    "    target_dir = 'E:\\DeepArt Scalanie\\FINAL\\\\'+autor\n",
    "\n",
    "    shutil.copytree(source_dir, target_dir, copy_function = shutil.copy)"
   ]
  },
  {
   "cell_type": "code",
   "execution_count": null,
   "metadata": {},
   "outputs": [],
   "source": []
  }
 ],
 "metadata": {
  "kernelspec": {
   "display_name": "Python 3",
   "language": "python",
   "name": "python3"
  },
  "language_info": {
   "codemirror_mode": {
    "name": "ipython",
    "version": 3
   },
   "file_extension": ".py",
   "mimetype": "text/x-python",
   "name": "python",
   "nbconvert_exporter": "python",
   "pygments_lexer": "ipython3",
   "version": "3.7.4"
  }
 },
 "nbformat": 4,
 "nbformat_minor": 4
}
