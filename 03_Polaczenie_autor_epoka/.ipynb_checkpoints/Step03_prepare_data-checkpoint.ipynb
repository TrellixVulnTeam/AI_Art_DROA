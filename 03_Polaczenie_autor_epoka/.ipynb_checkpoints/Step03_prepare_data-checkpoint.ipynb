{
 "cells": [
  {
   "cell_type": "markdown",
   "metadata": {},
   "source": [
    "# Przygotowanie pliku pod model"
   ]
  },
  {
   "cell_type": "markdown",
   "metadata": {},
   "source": [
    "#### Przygotowanie pliku z wszystkimi danymi"
   ]
  },
  {
   "cell_type": "code",
   "execution_count": 1,
   "metadata": {},
   "outputs": [],
   "source": [
    "import pandas as pd\n",
    "import seaborn as sns\n",
    "\n",
    "import glob\n",
    "import os\n",
    "import time\n",
    "\n",
    "#by nie urywało wartości w krotnce jak porównuję ścieżki\n",
    "pd.set_option('display.max_colwidth', -1)"
   ]
  },
  {
   "cell_type": "code",
   "execution_count": 2,
   "metadata": {},
   "outputs": [],
   "source": [
    "#średnia długość listy\n",
    "def averageLen(lst):\n",
    "    lengths = [len(i) for i in lst]\n",
    "    return 0 if len(lengths) == 0 else (float(sum(lengths)) / len(lengths)) "
   ]
  },
  {
   "cell_type": "code",
   "execution_count": 3,
   "metadata": {},
   "outputs": [
    {
     "name": "stdout",
     "output_type": "stream",
     "text": [
      "Czas na utworzenie pliku: 199.87806582450867 sekund.\n"
     ]
    }
   ],
   "source": [
    "start = time.time()\n",
    "i = 0\n",
    "df_poems = pd.DataFrame(columns=['autor','title','path', 'liczba_wersow', 'avg_dlugosc_wersu'])\n",
    "\n",
    "for autor_folder in glob.glob(r'E:\\DeepArt Scalanie\\FINAL\\\\*'):\n",
    "    autor = autor_folder.replace('E:\\DeepArt Scalanie\\FINAL\\\\','')\n",
    "    \n",
    "    for poem_path in glob.glob(os.path.join('E:\\DeepArt Scalanie\\FINAL\\\\',autor)+'\\*'):\n",
    "        title=poem_path.replace(autor_folder+'\\\\','')\n",
    "        \n",
    "        #wczytanie pliku\n",
    "        with open(poem_path, 'r', encoding=\"utf8\") as file:\n",
    "            poem = file.read()\n",
    "        \n",
    "        df_poems.loc[i]=[autor, \n",
    "                         title, \n",
    "                         poem_path,\n",
    "                         len(poem.split('\\n')),\n",
    "                         averageLen(poem.split('\\n'))\n",
    "                        ]\n",
    "        i = i + 1\n",
    "    \n",
    "print(f'Czas na utworzenie pliku: {time.time()-start} sekund.')"
   ]
  },
  {
   "cell_type": "code",
   "execution_count": 50,
   "metadata": {},
   "outputs": [
    {
     "name": "stdout",
     "output_type": "stream",
     "text": [
      "(21500, 5)\n"
     ]
    },
    {
     "data": {
      "text/html": [
       "<div>\n",
       "<style scoped>\n",
       "    .dataframe tbody tr th:only-of-type {\n",
       "        vertical-align: middle;\n",
       "    }\n",
       "\n",
       "    .dataframe tbody tr th {\n",
       "        vertical-align: top;\n",
       "    }\n",
       "\n",
       "    .dataframe thead th {\n",
       "        text-align: right;\n",
       "    }\n",
       "</style>\n",
       "<table border=\"1\" class=\"dataframe\">\n",
       "  <thead>\n",
       "    <tr style=\"text-align: right;\">\n",
       "      <th></th>\n",
       "      <th>autor</th>\n",
       "      <th>title</th>\n",
       "      <th>path</th>\n",
       "      <th>liczba_wersow</th>\n",
       "      <th>avg_dlugosc_wersu</th>\n",
       "    </tr>\n",
       "  </thead>\n",
       "  <tbody>\n",
       "    <tr>\n",
       "      <th>11895</th>\n",
       "      <td>Konstanty_Gaszyński</td>\n",
       "      <td>Avignon.txt</td>\n",
       "      <td>E:\\DeepArt Scalanie\\FINAL\\Konstanty_Gaszyński\\Avignon.txt</td>\n",
       "      <td>15</td>\n",
       "      <td>40.800000</td>\n",
       "    </tr>\n",
       "    <tr>\n",
       "      <th>21317</th>\n",
       "      <td>Zygmunt_Różycki</td>\n",
       "      <td>I_zda_mi_się....txt</td>\n",
       "      <td>E:\\DeepArt Scalanie\\FINAL\\Zygmunt_Różycki\\I_zda_mi_się....txt</td>\n",
       "      <td>14</td>\n",
       "      <td>43.142857</td>\n",
       "    </tr>\n",
       "    <tr>\n",
       "      <th>13899</th>\n",
       "      <td>Ludwik_Kondratowicz</td>\n",
       "      <td>Oda_XI._Do_Lewina_Hieliusza_—_zalecenie_pracy.txt</td>\n",
       "      <td>E:\\DeepArt Scalanie\\FINAL\\Ludwik_Kondratowicz\\Oda_XI._Do_Lewina_Hieliusza_—_zalecenie_pracy.txt</td>\n",
       "      <td>40</td>\n",
       "      <td>36.525000</td>\n",
       "    </tr>\n",
       "  </tbody>\n",
       "</table>\n",
       "</div>"
      ],
      "text/plain": [
       "                     autor                                              title  \\\n",
       "11895  Konstanty_Gaszyński  Avignon.txt                                         \n",
       "21317  Zygmunt_Różycki      I_zda_mi_się....txt                                 \n",
       "13899  Ludwik_Kondratowicz  Oda_XI._Do_Lewina_Hieliusza_—_zalecenie_pracy.txt   \n",
       "\n",
       "                                                                                                  path  \\\n",
       "11895  E:\\DeepArt Scalanie\\FINAL\\Konstanty_Gaszyński\\Avignon.txt                                         \n",
       "21317  E:\\DeepArt Scalanie\\FINAL\\Zygmunt_Różycki\\I_zda_mi_się....txt                                     \n",
       "13899  E:\\DeepArt Scalanie\\FINAL\\Ludwik_Kondratowicz\\Oda_XI._Do_Lewina_Hieliusza_—_zalecenie_pracy.txt   \n",
       "\n",
       "      liczba_wersow  avg_dlugosc_wersu  \n",
       "11895  15            40.800000          \n",
       "21317  14            43.142857          \n",
       "13899  40            36.525000          "
      ]
     },
     "execution_count": 50,
     "metadata": {},
     "output_type": "execute_result"
    }
   ],
   "source": [
    "df_poems.sample(3)"
   ]
  },
  {
   "cell_type": "code",
   "execution_count": 51,
   "metadata": {},
   "outputs": [
    {
     "data": {
      "text/html": [
       "<div>\n",
       "<style scoped>\n",
       "    .dataframe tbody tr th:only-of-type {\n",
       "        vertical-align: middle;\n",
       "    }\n",
       "\n",
       "    .dataframe tbody tr th {\n",
       "        vertical-align: top;\n",
       "    }\n",
       "\n",
       "    .dataframe thead th {\n",
       "        text-align: right;\n",
       "    }\n",
       "</style>\n",
       "<table border=\"1\" class=\"dataframe\">\n",
       "  <thead>\n",
       "    <tr style=\"text-align: right;\">\n",
       "      <th></th>\n",
       "      <th>path</th>\n",
       "      <th>rhymes_type</th>\n",
       "    </tr>\n",
       "  </thead>\n",
       "  <tbody>\n",
       "    <tr>\n",
       "      <th>0</th>\n",
       "      <td>E:\\DeepArt Scalanie\\FINAL\\Adam_Asnyk\\Abdykacja.txt</td>\n",
       "      <td>ABAB</td>\n",
       "    </tr>\n",
       "    <tr>\n",
       "      <th>1</th>\n",
       "      <td>E:\\DeepArt Scalanie\\FINAL\\Adam_Asnyk\\Ach_jak_mi_smutno!.txt</td>\n",
       "      <td>ABAB</td>\n",
       "    </tr>\n",
       "    <tr>\n",
       "      <th>2</th>\n",
       "      <td>E:\\DeepArt Scalanie\\FINAL\\Adam_Asnyk\\Ach_powiedz!.txt</td>\n",
       "      <td>ABAB</td>\n",
       "    </tr>\n",
       "    <tr>\n",
       "      <th>3</th>\n",
       "      <td>E:\\DeepArt Scalanie\\FINAL\\Adam_Asnyk\\Anakreontyk.txt</td>\n",
       "      <td>ABAB</td>\n",
       "    </tr>\n",
       "    <tr>\n",
       "      <th>4</th>\n",
       "      <td>E:\\DeepArt Scalanie\\FINAL\\Adam_Asnyk\\Anielskie_chóry.txt</td>\n",
       "      <td>ABBA</td>\n",
       "    </tr>\n",
       "  </tbody>\n",
       "</table>\n",
       "</div>"
      ],
      "text/plain": [
       "                                                          path rhymes_type\n",
       "0  E:\\DeepArt Scalanie\\FINAL\\Adam_Asnyk\\Abdykacja.txt           ABAB      \n",
       "1  E:\\DeepArt Scalanie\\FINAL\\Adam_Asnyk\\Ach_jak_mi_smutno!.txt  ABAB      \n",
       "2  E:\\DeepArt Scalanie\\FINAL\\Adam_Asnyk\\Ach_powiedz!.txt        ABAB      \n",
       "3  E:\\DeepArt Scalanie\\FINAL\\Adam_Asnyk\\Anakreontyk.txt         ABAB      \n",
       "4  E:\\DeepArt Scalanie\\FINAL\\Adam_Asnyk\\Anielskie_chóry.txt     ABBA      "
      ]
     },
     "execution_count": 51,
     "metadata": {},
     "output_type": "execute_result"
    }
   ],
   "source": [
    "df_rymy = pd.read_csv('02_rymy_mapowanie.csv', encoding = \"cp1250\")\n",
    "df_rymy = df_rymy[['sciezka_wiersza','typ_rymow']]\n",
    "df_rymy['sciezka_wiersza'] = df_rymy['sciezka_wiersza'].apply(lambda x: str(x).replace(\"C:\\\\Users\\\\Krystian\\\\Downloads\\\\FINAL\\\\FINAL\",\"E:\\\\DeepArt Scalanie\\\\FINAL\").replace('/','\\\\').strip())\n",
    "df_rymy.columns=['path','rhymes_type']\n",
    "df_rymy.head()"
   ]
  },
  {
   "cell_type": "code",
   "execution_count": 91,
   "metadata": {},
   "outputs": [
    {
     "data": {
      "text/html": [
       "<div>\n",
       "<style scoped>\n",
       "    .dataframe tbody tr th:only-of-type {\n",
       "        vertical-align: middle;\n",
       "    }\n",
       "\n",
       "    .dataframe tbody tr th {\n",
       "        vertical-align: top;\n",
       "    }\n",
       "\n",
       "    .dataframe thead th {\n",
       "        text-align: right;\n",
       "    }\n",
       "</style>\n",
       "<table border=\"1\" class=\"dataframe\">\n",
       "  <thead>\n",
       "    <tr style=\"text-align: right;\">\n",
       "      <th></th>\n",
       "      <th>autor</th>\n",
       "      <th>title</th>\n",
       "      <th>path</th>\n",
       "      <th>liczba_wersow</th>\n",
       "      <th>avg_dlugosc_wersu</th>\n",
       "      <th>rhymes_type</th>\n",
       "      <th>epoka</th>\n",
       "    </tr>\n",
       "  </thead>\n",
       "  <tbody>\n",
       "    <tr>\n",
       "      <th>0</th>\n",
       "      <td>Adam_Asnyk</td>\n",
       "      <td>Abdykacja.txt</td>\n",
       "      <td>E:\\DeepArt Scalanie\\FINAL\\Adam_Asnyk\\Abdykacja.txt</td>\n",
       "      <td>51</td>\n",
       "      <td>19.882353</td>\n",
       "      <td>ABAB</td>\n",
       "      <td>Pozytywizm</td>\n",
       "    </tr>\n",
       "    <tr>\n",
       "      <th>1</th>\n",
       "      <td>Adam_Asnyk</td>\n",
       "      <td>Ach_jak_mi_smutno!.txt</td>\n",
       "      <td>E:\\DeepArt Scalanie\\FINAL\\Adam_Asnyk\\Ach_jak_mi_smutno!.txt</td>\n",
       "      <td>16</td>\n",
       "      <td>24.875000</td>\n",
       "      <td>ABAB</td>\n",
       "      <td>Pozytywizm</td>\n",
       "    </tr>\n",
       "    <tr>\n",
       "      <th>2</th>\n",
       "      <td>Adam_Asnyk</td>\n",
       "      <td>Ach_powiedz!.txt</td>\n",
       "      <td>E:\\DeepArt Scalanie\\FINAL\\Adam_Asnyk\\Ach_powiedz!.txt</td>\n",
       "      <td>54</td>\n",
       "      <td>22.240741</td>\n",
       "      <td>ABAB</td>\n",
       "      <td>Pozytywizm</td>\n",
       "    </tr>\n",
       "  </tbody>\n",
       "</table>\n",
       "</div>"
      ],
      "text/plain": [
       "        autor                   title  \\\n",
       "0  Adam_Asnyk  Abdykacja.txt            \n",
       "1  Adam_Asnyk  Ach_jak_mi_smutno!.txt   \n",
       "2  Adam_Asnyk  Ach_powiedz!.txt         \n",
       "\n",
       "                                                          path liczba_wersow  \\\n",
       "0  E:\\DeepArt Scalanie\\FINAL\\Adam_Asnyk\\Abdykacja.txt           51             \n",
       "1  E:\\DeepArt Scalanie\\FINAL\\Adam_Asnyk\\Ach_jak_mi_smutno!.txt  16             \n",
       "2  E:\\DeepArt Scalanie\\FINAL\\Adam_Asnyk\\Ach_powiedz!.txt        54             \n",
       "\n",
       "   avg_dlugosc_wersu rhymes_type       epoka  \n",
       "0  19.882353          ABAB        Pozytywizm  \n",
       "1  24.875000          ABAB        Pozytywizm  \n",
       "2  22.240741          ABAB        Pozytywizm  "
      ]
     },
     "execution_count": 91,
     "metadata": {},
     "output_type": "execute_result"
    }
   ],
   "source": [
    "df_merge = pd.merge(df_poems, df_rymy, on='path', how='left')\n",
    "\n",
    "df_epoki = pd.read_excel('lista_poetow_epoki.xlsx')\n",
    "for index, row in df_epoki.iterrows():\n",
    "    df_merge.loc[(df_merge['autor'].str.contains(row.Nazwisko)) & (df_merge['autor'].str.contains(row.Nazwisko)), \n",
    "                 'epoka'] = row.epoka\n",
    "\n",
    "df_merge.head(3)"
   ]
  },
  {
   "cell_type": "code",
   "execution_count": 92,
   "metadata": {},
   "outputs": [
    {
     "name": "stdout",
     "output_type": "stream",
     "text": [
      "(21500, 7)\n"
     ]
    }
   ],
   "source": [
    "df_merge.to_csv('../data/df_poems.csv', index=False, sep=';')\n",
    "print(df_merge.shape)"
   ]
  },
  {
   "cell_type": "markdown",
   "metadata": {},
   "source": [
    "#### Przygotowanie pliku pod trenowanie modelu"
   ]
  },
  {
   "cell_type": "code",
   "execution_count": 16,
   "metadata": {},
   "outputs": [
    {
     "data": {
      "image/png": "[encoded data removed]",
      "text/plain": [
       "<Figure size 432x288 with 1 Axes>"
      ]
     },
     "metadata": {
      "needs_background": "light"
     },
     "output_type": "display_data"
    }
   ],
   "source": [
    "sns.kdeplot(df_poems['avg_dlugosc_wersu'], shade=True, bw=2, color = 'red').set_title(f'avg_dlugosc_wersu');"
   ]
  },
  {
   "cell_type": "code",
   "execution_count": 17,
   "metadata": {},
   "outputs": [
    {
     "data": {
      "image/png": "[encoded data removed]",
      "text/plain": [
       "<Figure size 432x288 with 1 Axes>"
      ]
     },
     "metadata": {
      "needs_background": "light"
     },
     "output_type": "display_data"
    }
   ],
   "source": [
    "sns.kdeplot(df_poems['liczba_wersow'], shade=True, bw=2, color = 'red').set_title(f'liczba_wersow');"
   ]
  },
  {
   "cell_type": "code",
   "execution_count": 98,
   "metadata": {},
   "outputs": [
    {
     "data": {
      "text/html": [
       "<div>\n",
       "<style scoped>\n",
       "    .dataframe tbody tr th:only-of-type {\n",
       "        vertical-align: middle;\n",
       "    }\n",
       "\n",
       "    .dataframe tbody tr th {\n",
       "        vertical-align: top;\n",
       "    }\n",
       "\n",
       "    .dataframe thead th {\n",
       "        text-align: right;\n",
       "    }\n",
       "</style>\n",
       "<table border=\"1\" class=\"dataframe\">\n",
       "  <thead>\n",
       "    <tr style=\"text-align: right;\">\n",
       "      <th></th>\n",
       "      <th>epoka</th>\n",
       "      <th>rhymes_type</th>\n",
       "      <th>count</th>\n",
       "      <th>sum</th>\n",
       "    </tr>\n",
       "  </thead>\n",
       "  <tbody>\n",
       "    <tr>\n",
       "      <th>0</th>\n",
       "      <td>Barok</td>\n",
       "      <td>AABB</td>\n",
       "      <td>330</td>\n",
       "      <td>13675</td>\n",
       "    </tr>\n",
       "    <tr>\n",
       "      <th>1</th>\n",
       "      <td>Barok</td>\n",
       "      <td>ABAB</td>\n",
       "      <td>122</td>\n",
       "      <td>4182</td>\n",
       "    </tr>\n",
       "    <tr>\n",
       "      <th>2</th>\n",
       "      <td>Barok</td>\n",
       "      <td>ABBA</td>\n",
       "      <td>32</td>\n",
       "      <td>1072</td>\n",
       "    </tr>\n",
       "    <tr>\n",
       "      <th>3</th>\n",
       "      <td>Barok</td>\n",
       "      <td>Balagan</td>\n",
       "      <td>14</td>\n",
       "      <td>38</td>\n",
       "    </tr>\n",
       "    <tr>\n",
       "      <th>4</th>\n",
       "      <td>Młoda Polska</td>\n",
       "      <td>AABB</td>\n",
       "      <td>267</td>\n",
       "      <td>10827</td>\n",
       "    </tr>\n",
       "    <tr>\n",
       "      <th>5</th>\n",
       "      <td>Młoda Polska</td>\n",
       "      <td>ABAB</td>\n",
       "      <td>799</td>\n",
       "      <td>44439</td>\n",
       "    </tr>\n",
       "    <tr>\n",
       "      <th>6</th>\n",
       "      <td>Młoda Polska</td>\n",
       "      <td>ABBA</td>\n",
       "      <td>359</td>\n",
       "      <td>8063</td>\n",
       "    </tr>\n",
       "    <tr>\n",
       "      <th>7</th>\n",
       "      <td>Młoda Polska</td>\n",
       "      <td>Balagan</td>\n",
       "      <td>78</td>\n",
       "      <td>94</td>\n",
       "    </tr>\n",
       "    <tr>\n",
       "      <th>8</th>\n",
       "      <td>Oświecenie</td>\n",
       "      <td>AABB</td>\n",
       "      <td>328</td>\n",
       "      <td>15351</td>\n",
       "    </tr>\n",
       "    <tr>\n",
       "      <th>9</th>\n",
       "      <td>Oświecenie</td>\n",
       "      <td>ABAB</td>\n",
       "      <td>168</td>\n",
       "      <td>26207</td>\n",
       "    </tr>\n",
       "    <tr>\n",
       "      <th>10</th>\n",
       "      <td>Oświecenie</td>\n",
       "      <td>ABBA</td>\n",
       "      <td>60</td>\n",
       "      <td>3582</td>\n",
       "    </tr>\n",
       "    <tr>\n",
       "      <th>11</th>\n",
       "      <td>Oświecenie</td>\n",
       "      <td>Balagan</td>\n",
       "      <td>61</td>\n",
       "      <td>160</td>\n",
       "    </tr>\n",
       "    <tr>\n",
       "      <th>12</th>\n",
       "      <td>Pozytywizm</td>\n",
       "      <td>AABB</td>\n",
       "      <td>363</td>\n",
       "      <td>16945</td>\n",
       "    </tr>\n",
       "    <tr>\n",
       "      <th>13</th>\n",
       "      <td>Pozytywizm</td>\n",
       "      <td>ABAB</td>\n",
       "      <td>994</td>\n",
       "      <td>56631</td>\n",
       "    </tr>\n",
       "    <tr>\n",
       "      <th>14</th>\n",
       "      <td>Pozytywizm</td>\n",
       "      <td>ABBA</td>\n",
       "      <td>156</td>\n",
       "      <td>7775</td>\n",
       "    </tr>\n",
       "    <tr>\n",
       "      <th>15</th>\n",
       "      <td>Pozytywizm</td>\n",
       "      <td>Balagan</td>\n",
       "      <td>39</td>\n",
       "      <td>53</td>\n",
       "    </tr>\n",
       "    <tr>\n",
       "      <th>16</th>\n",
       "      <td>Renesans</td>\n",
       "      <td>AABB</td>\n",
       "      <td>491</td>\n",
       "      <td>11266</td>\n",
       "    </tr>\n",
       "    <tr>\n",
       "      <th>17</th>\n",
       "      <td>Renesans</td>\n",
       "      <td>ABAB</td>\n",
       "      <td>78</td>\n",
       "      <td>4277</td>\n",
       "    </tr>\n",
       "    <tr>\n",
       "      <th>18</th>\n",
       "      <td>Renesans</td>\n",
       "      <td>ABBA</td>\n",
       "      <td>152</td>\n",
       "      <td>7161</td>\n",
       "    </tr>\n",
       "    <tr>\n",
       "      <th>19</th>\n",
       "      <td>Renesans</td>\n",
       "      <td>Balagan</td>\n",
       "      <td>87</td>\n",
       "      <td>219</td>\n",
       "    </tr>\n",
       "    <tr>\n",
       "      <th>20</th>\n",
       "      <td>Romantyzm</td>\n",
       "      <td>AABB</td>\n",
       "      <td>441</td>\n",
       "      <td>49215</td>\n",
       "    </tr>\n",
       "    <tr>\n",
       "      <th>21</th>\n",
       "      <td>Romantyzm</td>\n",
       "      <td>ABAB</td>\n",
       "      <td>871</td>\n",
       "      <td>56227</td>\n",
       "    </tr>\n",
       "    <tr>\n",
       "      <th>22</th>\n",
       "      <td>Romantyzm</td>\n",
       "      <td>ABBA</td>\n",
       "      <td>185</td>\n",
       "      <td>10932</td>\n",
       "    </tr>\n",
       "    <tr>\n",
       "      <th>23</th>\n",
       "      <td>Romantyzm</td>\n",
       "      <td>Balagan</td>\n",
       "      <td>46</td>\n",
       "      <td>66</td>\n",
       "    </tr>\n",
       "    <tr>\n",
       "      <th>24</th>\n",
       "      <td>XX-lecie</td>\n",
       "      <td>AABB</td>\n",
       "      <td>1033</td>\n",
       "      <td>51928</td>\n",
       "    </tr>\n",
       "    <tr>\n",
       "      <th>25</th>\n",
       "      <td>XX-lecie</td>\n",
       "      <td>ABAB</td>\n",
       "      <td>2661</td>\n",
       "      <td>133268</td>\n",
       "    </tr>\n",
       "    <tr>\n",
       "      <th>26</th>\n",
       "      <td>XX-lecie</td>\n",
       "      <td>ABBA</td>\n",
       "      <td>644</td>\n",
       "      <td>20299</td>\n",
       "    </tr>\n",
       "    <tr>\n",
       "      <th>27</th>\n",
       "      <td>XX-lecie</td>\n",
       "      <td>Balagan</td>\n",
       "      <td>100</td>\n",
       "      <td>129</td>\n",
       "    </tr>\n",
       "  </tbody>\n",
       "</table>\n",
       "</div>"
      ],
      "text/plain": [
       "           epoka rhymes_type  count     sum\n",
       "0   Barok         AABB        330    13675 \n",
       "1   Barok         ABAB        122    4182  \n",
       "2   Barok         ABBA        32     1072  \n",
       "3   Barok         Balagan     14     38    \n",
       "4   Młoda Polska  AABB        267    10827 \n",
       "5   Młoda Polska  ABAB        799    44439 \n",
       "6   Młoda Polska  ABBA        359    8063  \n",
       "7   Młoda Polska  Balagan     78     94    \n",
       "8   Oświecenie    AABB        328    15351 \n",
       "9   Oświecenie    ABAB        168    26207 \n",
       "10  Oświecenie    ABBA        60     3582  \n",
       "11  Oświecenie    Balagan     61     160   \n",
       "12  Pozytywizm    AABB        363    16945 \n",
       "13  Pozytywizm    ABAB        994    56631 \n",
       "14  Pozytywizm    ABBA        156    7775  \n",
       "15  Pozytywizm    Balagan     39     53    \n",
       "16  Renesans      AABB        491    11266 \n",
       "17  Renesans      ABAB        78     4277  \n",
       "18  Renesans      ABBA        152    7161  \n",
       "19  Renesans      Balagan     87     219   \n",
       "20  Romantyzm     AABB        441    49215 \n",
       "21  Romantyzm     ABAB        871    56227 \n",
       "22  Romantyzm     ABBA        185    10932 \n",
       "23  Romantyzm     Balagan     46     66    \n",
       "24  XX-lecie      AABB        1033   51928 \n",
       "25  XX-lecie      ABAB        2661   133268\n",
       "26  XX-lecie      ABBA        644    20299 \n",
       "27  XX-lecie      Balagan     100    129   "
      ]
     },
     "execution_count": 98,
     "metadata": {},
     "output_type": "execute_result"
    }
   ],
   "source": [
    "tmp = df_merge.groupby(['epoka','rhymes_type'])['liczba_wersow'].agg(['count','sum']).reset_index()\n",
    "tmp"
   ]
  },
  {
   "cell_type": "markdown",
   "metadata": {},
   "source": [
    "## model_v00\n",
    "Dane pod pierwszy model na całości"
   ]
  },
  {
   "cell_type": "code",
   "execution_count": 27,
   "metadata": {},
   "outputs": [],
   "source": [
    "df_to_model = df_poems[df_poems['avg_dlugosc_wersu']< 69]\n",
    "final_data = ''\n",
    "\n",
    "for index, row in df_to_model.iterrows():\n",
    "    #wczytanie pliku\n",
    "    with open(row['path'], 'r', encoding=\"utf8\") as file:\n",
    "        poem = file.read()\n",
    "        \n",
    "    final_data = final_data + '/n' + poem\n",
    "    \n",
    "with open('./data/model_v00.txt', \"w\", encoding=\"utf-8\") as f:\n",
    "    f.write(str(final_data))"
   ]
  },
  {
   "cell_type": "markdown",
   "metadata": {},
   "source": [
    "## model_v01\n",
    "Dane pod kolejny model - tylko romantyzm ABAB"
   ]
  },
  {
   "cell_type": "code",
   "execution_count": 113,
   "metadata": {},
   "outputs": [],
   "source": [
    "df_to_model = df_merge[(df_merge['epoka'].isin(['Romantyzm','Pozytywizm','Młoda Polska'])) & (df_merge['rhymes_type']=='ABAB')]\n",
    "df_to_model = df_to_model[df_to_model['avg_dlugosc_wersu']< 69]\n",
    "\n",
    "final_data = ''\n",
    "\n",
    "for index, row in df_to_model.iterrows():\n",
    "    #wczytanie pliku\n",
    "    with open(row['path'], 'r', encoding=\"utf8\") as file:\n",
    "        poem = file.read()\n",
    "        \n",
    "    final_data = final_data + '/n' + poem\n",
    "    \n",
    "with open('../data/model_v01.txt', \"w\", encoding=\"utf-8\") as f:\n",
    "    f.write(str(final_data))"
   ]
  },
  {
   "cell_type": "code",
   "execution_count": null,
   "metadata": {},
   "outputs": [],
   "source": []
  }
 ],
 "metadata": {
  "kernelspec": {
   "display_name": "Python 3",
   "language": "python",
   "name": "python3"
  },
  "language_info": {
   "codemirror_mode": {
    "name": "ipython",
    "version": 3
   },
   "file_extension": ".py",
   "mimetype": "text/x-python",
   "name": "python",
   "nbconvert_exporter": "python",
   "pygments_lexer": "ipython3",
   "version": "3.7.4"
  }
 },
 "nbformat": 4,
 "nbformat_minor": 4
}
